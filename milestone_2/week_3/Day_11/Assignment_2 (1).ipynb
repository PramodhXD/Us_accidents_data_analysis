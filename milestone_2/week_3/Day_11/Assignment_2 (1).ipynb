{
  "nbformat": 4,
  "nbformat_minor": 0,
  "metadata": {
    "colab": {
      "provenance": [],
      "gpuType": "V28"
    },
    "kernelspec": {
      "name": "python3",
      "display_name": "Python 3"
    },
    "language_info": {
      "name": "python"
    },
    "accelerator": "TPU"
  },
  "cells": [
    {
      "cell_type": "markdown",
      "source": [
        "# Assingnment - 2"
      ],
      "metadata": {
        "id": "HumAExhXv014"
      }
    },
    {
      "cell_type": "code",
      "execution_count": 3,
      "metadata": {
        "colab": {
          "base_uri": "https://localhost:8080/"
        },
        "id": "NhzKitOJvV6p",
        "outputId": "8a7cd164-949e-4a14-bcc5-61acf1e42a82"
      },
      "outputs": [
        {
          "output_type": "stream",
          "name": "stdout",
          "text": [
            "Drive already mounted at /content/drive; to attempt to forcibly remount, call drive.mount(\"/content/drive\", force_remount=True).\n"
          ]
        }
      ],
      "source": [
        "from google.colab import drive\n",
        "drive.mount('/content/drive')"
      ]
    },
    {
      "cell_type": "code",
      "source": [
        "import pandas as pd\n",
        "import matplotlib.pyplot as plt\n",
        "import numpy as np\n"
      ],
      "metadata": {
        "id": "z7KUsvPvw-PE"
      },
      "execution_count": 4,
      "outputs": []
    },
    {
      "cell_type": "code",
      "source": [
        "df = pd.read_csv('/content/drive/MyDrive/Colab Notebooks/US_Accidents_March23.csv')"
      ],
      "metadata": {
        "id": "ChzotMe-x0l7"
      },
      "execution_count": 5,
      "outputs": []
    },
    {
      "cell_type": "markdown",
      "source": [
        "1.What is the distribution of accident severity levels?"
      ],
      "metadata": {
        "id": "4NFIyuPeyS4h"
      }
    },
    {
      "cell_type": "code",
      "source": [
        "severity_distribution = df['Severity'].value_counts().sort_index()\n",
        "severity_percentages = df['Severity'].value_counts(normalize=True).sort_index() * 100\n",
        "print(\"Severity Counts:\\n\", severity_distribution)\n",
        "print(\"\\nSeverity Percentages:\\n\", severity_percentages)"
      ],
      "metadata": {
        "colab": {
          "base_uri": "https://localhost:8080/"
        },
        "id": "a-_t5tQIzNuW",
        "outputId": "5421d050-7d38-4b93-93af-f508b77a6c08"
      },
      "execution_count": 10,
      "outputs": [
        {
          "output_type": "stream",
          "name": "stdout",
          "text": [
            "Severity Counts:\n",
            " Severity\n",
            "1      67366\n",
            "2    6156981\n",
            "3    1299337\n",
            "4     204710\n",
            "Name: count, dtype: int64\n",
            "\n",
            "Severity Percentages:\n",
            " Severity\n",
            "1     0.871669\n",
            "2    79.667017\n",
            "3    16.812510\n",
            "4     2.648804\n",
            "Name: proportion, dtype: float64\n"
          ]
        }
      ]
    },
    {
      "cell_type": "markdown",
      "source": [
        "2.How is the accident frequency distributed by hour of the day?"
      ],
      "metadata": {
        "id": "cqiHQCb_yhdm"
      }
    },
    {
      "cell_type": "code",
      "source": [
        "df['Start_Time'] = pd.to_datetime(df['Start_Time'], format='mixed')\n",
        "\n",
        "# Extract hour from Start_Time\n",
        "df['Hour'] = df['Start_Time'].dt.hour\n",
        "\n",
        "# Group by hour\n",
        "hourly_counts = df['Hour'].value_counts().sort_index()\n",
        "\n",
        "# Display result\n",
        "print(hourly_counts)"
      ],
      "metadata": {
        "colab": {
          "base_uri": "https://localhost:8080/"
        },
        "id": "HYXskQR1zOlP",
        "outputId": "30b4ce34-880b-4ddb-ecaa-ef06519b6af5"
      },
      "execution_count": 11,
      "outputs": [
        {
          "output_type": "stream",
          "name": "stdout",
          "text": [
            "Hour\n",
            "0     112378\n",
            "1      97071\n",
            "2      93227\n",
            "3      83863\n",
            "4     159852\n",
            "5     228182\n",
            "6     405837\n",
            "7     587472\n",
            "8     577576\n",
            "9     363034\n",
            "10    342706\n",
            "11    355040\n",
            "12    355001\n",
            "13    396445\n",
            "14    448846\n",
            "15    525855\n",
            "16    581969\n",
            "17    576015\n",
            "18    432042\n",
            "19    295121\n",
            "20    225226\n",
            "21    191452\n",
            "22    167645\n",
            "23    126539\n",
            "Name: count, dtype: int64\n"
          ]
        }
      ]
    },
    {
      "cell_type": "markdown",
      "source": [
        "3.Which days of the week have the highest number of accidents?"
      ],
      "metadata": {
        "id": "v6k5xpqVyklo"
      }
    },
    {
      "cell_type": "code",
      "metadata": {
        "colab": {
          "base_uri": "https://localhost:8080/"
        },
        "id": "a570d999",
        "outputId": "83985f1b-befd-4f60-dfce-fbec2c6fdd8b"
      },
      "source": [
        "df['Day_of_Week'] = df['Start_Time'].dt.day_name()\n",
        "\n",
        "# Group by day of the week and count\n",
        "daily_counts = df['Day_of_Week'].value_counts()\n",
        "\n",
        "# Display the counts\n",
        "print(\"Accident counts by day of the week:\\n\", daily_counts)\n",
        "\n",
        "# Find the day with the highest number of accidents\n",
        "most_accidents_day = daily_counts.idxmax()\n",
        "highest_count = daily_counts.max()\n",
        "\n",
        "print(f\"\\nThe day with the highest number of accidents is {most_accidents_day} with {highest_count} accidents.\")"
      ],
      "execution_count": 12,
      "outputs": [
        {
          "output_type": "stream",
          "name": "stdout",
          "text": [
            "Accident counts by day of the week:\n",
            " Day_of_Week\n",
            "Friday       1366499\n",
            "Thursday     1316229\n",
            "Wednesday    1312389\n",
            "Tuesday      1290929\n",
            "Monday       1210921\n",
            "Saturday      668683\n",
            "Sunday        562744\n",
            "Name: count, dtype: int64\n",
            "\n",
            "The day with the highest number of accidents is Friday with 1366499 accidents.\n"
          ]
        }
      ]
    },
    {
      "cell_type": "markdown",
      "source": [
        "4.What are the most common weather conditions during accidents?"
      ],
      "metadata": {
        "id": "BcXZ7cKByn4t"
      }
    },
    {
      "cell_type": "code",
      "metadata": {
        "colab": {
          "base_uri": "https://localhost:8080/"
        },
        "id": "3edffd92",
        "outputId": "cf409269-1be8-4f8b-8f6f-3f4749ec1ef6"
      },
      "source": [
        "weather_counts = df['Weather_Condition'].value_counts()\n",
        "\n",
        "# Display the most common weather conditions\n",
        "print(\"Most common weather conditions during accidents:\\n\", weather_counts.head())"
      ],
      "execution_count": 13,
      "outputs": [
        {
          "output_type": "stream",
          "name": "stdout",
          "text": [
            "Most common weather conditions during accidents:\n",
            " Weather_Condition\n",
            "Fair             2734261\n",
            "Mostly Cloudy    1016195\n",
            "Cloudy            817082\n",
            "Clear             808743\n",
            "Partly Cloudy     698972\n",
            "Name: count, dtype: int64\n"
          ]
        }
      ]
    },
    {
      "cell_type": "markdown",
      "source": [
        "5.How to identify columns with missing data and their missing percentage?"
      ],
      "metadata": {
        "id": "ifQ9SS6pyqlq"
      }
    },
    {
      "cell_type": "code",
      "metadata": {
        "colab": {
          "base_uri": "https://localhost:8080/"
        },
        "id": "342f28d2",
        "outputId": "f7c743b4-d548-4c63-e6bf-f789b4d1163e"
      },
      "source": [
        "# Calculate the number of missing values per column\n",
        "missing_values = df.isnull().sum()\n",
        "\n",
        "# Calculate the percentage of missing values\n",
        "missing_percentages = (missing_values / len(df)) * 100\n",
        "\n",
        "# Display columns with missing data and their percentages\n",
        "missing_info = pd.DataFrame({'Missing Values': missing_values, 'Missing Percentage (%)': missing_percentages})\n",
        "missing_info = missing_info[missing_info['Missing Values'] > 0].sort_values(by='Missing Percentage (%)', ascending=False)\n",
        "print(\"Columns with missing data and their missing percentages:\\n\", missing_info)"
      ],
      "execution_count": 14,
      "outputs": [
        {
          "output_type": "stream",
          "name": "stdout",
          "text": [
            "Columns with missing data and their missing percentages:\n",
            "                    Missing Values  Missing Percentage (%)\n",
            "End_Lat                   3402762               44.029355\n",
            "End_Lng                   3402762               44.029355\n",
            "Precipitation(in)         2203586               28.512858\n",
            "Wind_Chill(F)             1999019               25.865904\n",
            "Wind_Speed(mph)            571233                7.391355\n",
            "Visibility(mi)             177098                2.291524\n",
            "Humidity(%)                174144                2.253301\n",
            "Temperature(F)             163853                2.120143\n",
            "Pressure(in)               140679                1.820288\n"
          ]
        }
      ]
    },
    {
      "cell_type": "markdown",
      "source": [
        "6.How to impute missing numerical values with median?"
      ],
      "metadata": {
        "id": "wYo6_aBCyejC"
      }
    },
    {
      "cell_type": "code",
      "metadata": {
        "colab": {
          "base_uri": "https://localhost:8080/"
        },
        "id": "bbc1ee25",
        "outputId": "51446d4e-c2a7-48ef-cd18-27579b28b7ca"
      },
      "source": [
        "num_cols = df.select_dtypes(include=['float64', 'int64']).columns\n",
        "\n",
        "for col in num_cols:\n",
        "    df[col] = df[col].fillna(df[col].median())\n",
        "\n",
        "print(\"Missing values in numerical columns have been imputed with median.\")\n",
        "\n",
        "print(df[num_cols].head(20))"
      ],
      "execution_count": 15,
      "outputs": [
        {
          "output_type": "stream",
          "name": "stdout",
          "text": [
            "Missing values in numerical columns have been imputed with median.\n",
            "    Severity  Start_Lat  Start_Lng    End_Lat   End_Lng  Distance(mi)  \\\n",
            "0          3  39.865147 -84.058723  36.183495 -88.02789          0.01   \n",
            "1          2  39.928059 -82.831184  36.183495 -88.02789          0.01   \n",
            "2          2  39.063148 -84.032608  36.183495 -88.02789          0.01   \n",
            "3          3  39.747753 -84.205582  36.183495 -88.02789          0.01   \n",
            "4          2  39.627781 -84.188354  36.183495 -88.02789          0.01   \n",
            "5          3  40.100590 -82.925194  36.183495 -88.02789          0.01   \n",
            "6          2  39.758274 -84.230507  36.183495 -88.02789          0.00   \n",
            "7          3  39.770382 -84.194901  36.183495 -88.02789          0.01   \n",
            "8          2  39.778061 -84.172005  36.183495 -88.02789          0.00   \n",
            "9          3  40.100590 -82.925194  36.183495 -88.02789          0.01   \n",
            "10         3  39.952812 -83.119293  36.183495 -88.02789          0.01   \n",
            "11         3  39.932709 -82.830910  36.183495 -88.02789          0.01   \n",
            "12         2  39.737633 -84.149933  36.183495 -88.02789          0.00   \n",
            "13         2  39.790760 -84.241547  36.183495 -88.02789          0.01   \n",
            "14         2  39.972038 -82.913521  36.183495 -88.02789          0.01   \n",
            "15         2  39.745888 -84.170410  36.183495 -88.02789          0.01   \n",
            "16         2  39.748329 -84.224007  36.183495 -88.02789          0.01   \n",
            "17         2  39.752174 -84.239952  36.183495 -88.02789          0.00   \n",
            "18         2  39.740669 -84.184135  36.183495 -88.02789          0.01   \n",
            "19         2  39.790703 -84.244461  36.183495 -88.02789          0.01   \n",
            "\n",
            "    Temperature(F)  Wind_Chill(F)  Humidity(%)  Pressure(in)  Visibility(mi)  \\\n",
            "0             36.9           62.0         91.0         29.68            10.0   \n",
            "1             37.9           62.0        100.0         29.65            10.0   \n",
            "2             36.0           33.3        100.0         29.67            10.0   \n",
            "3             35.1           31.0         96.0         29.64             9.0   \n",
            "4             36.0           33.3         89.0         29.65             6.0   \n",
            "5             37.9           35.5         97.0         29.63             7.0   \n",
            "6             34.0           31.0        100.0         29.66             7.0   \n",
            "7             34.0           31.0        100.0         29.66             7.0   \n",
            "8             33.3           62.0         99.0         29.67             5.0   \n",
            "9             37.4           33.8        100.0         29.62             3.0   \n",
            "10            35.6           30.7         93.0         29.64             5.0   \n",
            "11            37.4           33.8        100.0         29.62             3.0   \n",
            "12            33.8           62.0        100.0         29.63             3.0   \n",
            "13            36.0           31.1         89.0         29.65            10.0   \n",
            "14            37.4           33.8        100.0         29.62             3.0   \n",
            "15            33.8           62.0        100.0         29.63             3.0   \n",
            "16            35.6           62.0         99.0         29.65             7.0   \n",
            "17            36.0           31.1         89.0         29.65            10.0   \n",
            "18            37.4           32.1         93.0         29.63            10.0   \n",
            "19            36.0           30.3         89.0         29.65            10.0   \n",
            "\n",
            "    Wind_Speed(mph)  Precipitation(in)  \n",
            "0               7.0               0.02  \n",
            "1               7.0               0.00  \n",
            "2               3.5               0.00  \n",
            "3               4.6               0.00  \n",
            "4               3.5               0.00  \n",
            "5               3.5               0.03  \n",
            "6               3.5               0.00  \n",
            "7               3.5               0.00  \n",
            "8               1.2               0.00  \n",
            "9               4.6               0.02  \n",
            "10              5.8               0.00  \n",
            "11              4.6               0.02  \n",
            "12              2.3               0.00  \n",
            "13              5.8               0.00  \n",
            "14              4.6               0.02  \n",
            "15              2.3               0.00  \n",
            "16              2.3               0.00  \n",
            "17              5.8               0.00  \n",
            "18              6.9               0.00  \n",
            "19              6.9               0.00  \n"
          ]
        }
      ]
    },
    {
      "cell_type": "markdown",
      "source": [
        "7.How to impute missing categorical values with the mode?"
      ],
      "metadata": {
        "id": "Pigwgb1XywvG"
      }
    },
    {
      "cell_type": "code",
      "metadata": {
        "colab": {
          "base_uri": "https://localhost:8080/"
        },
        "id": "2abfdcf2",
        "outputId": "3dd99985-8fc2-4284-b126-74b158c50dcb"
      },
      "source": [
        "cat_cols = df.select_dtypes(include=['object']).columns\n",
        "\n",
        "for col in cat_cols:\n",
        "    df[col] = df[col].fillna(df[col].mode()[0])\n",
        "\n",
        "print(\"Missing values in categorical columns have been imputed with mode.\")\n",
        "\n",
        "print(df[num_cols].head(20))\n",
        "\n"
      ],
      "execution_count": 16,
      "outputs": [
        {
          "output_type": "stream",
          "name": "stdout",
          "text": [
            "Missing values in categorical columns have been imputed with mode.\n",
            "    Severity  Start_Lat  Start_Lng    End_Lat   End_Lng  Distance(mi)  \\\n",
            "0          3  39.865147 -84.058723  36.183495 -88.02789          0.01   \n",
            "1          2  39.928059 -82.831184  36.183495 -88.02789          0.01   \n",
            "2          2  39.063148 -84.032608  36.183495 -88.02789          0.01   \n",
            "3          3  39.747753 -84.205582  36.183495 -88.02789          0.01   \n",
            "4          2  39.627781 -84.188354  36.183495 -88.02789          0.01   \n",
            "5          3  40.100590 -82.925194  36.183495 -88.02789          0.01   \n",
            "6          2  39.758274 -84.230507  36.183495 -88.02789          0.00   \n",
            "7          3  39.770382 -84.194901  36.183495 -88.02789          0.01   \n",
            "8          2  39.778061 -84.172005  36.183495 -88.02789          0.00   \n",
            "9          3  40.100590 -82.925194  36.183495 -88.02789          0.01   \n",
            "10         3  39.952812 -83.119293  36.183495 -88.02789          0.01   \n",
            "11         3  39.932709 -82.830910  36.183495 -88.02789          0.01   \n",
            "12         2  39.737633 -84.149933  36.183495 -88.02789          0.00   \n",
            "13         2  39.790760 -84.241547  36.183495 -88.02789          0.01   \n",
            "14         2  39.972038 -82.913521  36.183495 -88.02789          0.01   \n",
            "15         2  39.745888 -84.170410  36.183495 -88.02789          0.01   \n",
            "16         2  39.748329 -84.224007  36.183495 -88.02789          0.01   \n",
            "17         2  39.752174 -84.239952  36.183495 -88.02789          0.00   \n",
            "18         2  39.740669 -84.184135  36.183495 -88.02789          0.01   \n",
            "19         2  39.790703 -84.244461  36.183495 -88.02789          0.01   \n",
            "\n",
            "    Temperature(F)  Wind_Chill(F)  Humidity(%)  Pressure(in)  Visibility(mi)  \\\n",
            "0             36.9           62.0         91.0         29.68            10.0   \n",
            "1             37.9           62.0        100.0         29.65            10.0   \n",
            "2             36.0           33.3        100.0         29.67            10.0   \n",
            "3             35.1           31.0         96.0         29.64             9.0   \n",
            "4             36.0           33.3         89.0         29.65             6.0   \n",
            "5             37.9           35.5         97.0         29.63             7.0   \n",
            "6             34.0           31.0        100.0         29.66             7.0   \n",
            "7             34.0           31.0        100.0         29.66             7.0   \n",
            "8             33.3           62.0         99.0         29.67             5.0   \n",
            "9             37.4           33.8        100.0         29.62             3.0   \n",
            "10            35.6           30.7         93.0         29.64             5.0   \n",
            "11            37.4           33.8        100.0         29.62             3.0   \n",
            "12            33.8           62.0        100.0         29.63             3.0   \n",
            "13            36.0           31.1         89.0         29.65            10.0   \n",
            "14            37.4           33.8        100.0         29.62             3.0   \n",
            "15            33.8           62.0        100.0         29.63             3.0   \n",
            "16            35.6           62.0         99.0         29.65             7.0   \n",
            "17            36.0           31.1         89.0         29.65            10.0   \n",
            "18            37.4           32.1         93.0         29.63            10.0   \n",
            "19            36.0           30.3         89.0         29.65            10.0   \n",
            "\n",
            "    Wind_Speed(mph)  Precipitation(in)  \n",
            "0               7.0               0.02  \n",
            "1               7.0               0.00  \n",
            "2               3.5               0.00  \n",
            "3               4.6               0.00  \n",
            "4               3.5               0.00  \n",
            "5               3.5               0.03  \n",
            "6               3.5               0.00  \n",
            "7               3.5               0.00  \n",
            "8               1.2               0.00  \n",
            "9               4.6               0.02  \n",
            "10              5.8               0.00  \n",
            "11              4.6               0.02  \n",
            "12              2.3               0.00  \n",
            "13              5.8               0.00  \n",
            "14              4.6               0.02  \n",
            "15              2.3               0.00  \n",
            "16              2.3               0.00  \n",
            "17              5.8               0.00  \n",
            "18              6.9               0.00  \n",
            "19              6.9               0.00  \n"
          ]
        }
      ]
    },
    {
      "cell_type": "markdown",
      "source": [
        "8.How to label encode a categorical column?"
      ],
      "metadata": {
        "id": "z5yM2J1zyzlD"
      }
    },
    {
      "cell_type": "code",
      "metadata": {
        "colab": {
          "base_uri": "https://localhost:8080/"
        },
        "id": "558148ba",
        "outputId": "bacd1c80-b939-4aab-effb-44599f6325fe"
      },
      "source": [
        "from sklearn.preprocessing import LabelEncoder\n",
        "\n",
        "# Select a categorical column to label encode (e.g., 'Day_of_Week')\n",
        "column_to_encode = 'Day_of_Week'\n",
        "\n",
        "# Ensure 'Start_Time' is datetime type and extract 'Day_of_Week'\n",
        "df['Start_Time'] = pd.to_datetime(df['Start_Time'], format='mixed')\n",
        "df['Day_of_Week'] = df['Start_Time'].dt.day_name()\n",
        "\n",
        "# Initialize LabelEncoder\n",
        "label_encoder = LabelEncoder()\n",
        "\n",
        "# Perform label encoding\n",
        "df[column_to_encode + '_Encoded'] = label_encoder.fit_transform(df[column_to_encode])\n",
        "\n",
        "# Display the first few rows of the original and label encoded columns\n",
        "print(\"Original 'Day_of_Week' column:\")\n",
        "print(df[column_to_encode].head())\n",
        "\n",
        "print(\"\\nLabel encoded 'Day_of_Week' column:\")\n",
        "print(df[column_to_encode + '_Encoded'].head())\n",
        "\n",
        "# Display the mapping of labels to encoded values\n",
        "print(\"\\nMapping of Day_of_Week to encoded values:\")\n",
        "for i, item in enumerate(label_encoder.classes_):\n",
        "    print(f\"{item}: {i}\")"
      ],
      "execution_count": 17,
      "outputs": [
        {
          "output_type": "stream",
          "name": "stdout",
          "text": [
            "Original 'Day_of_Week' column:\n",
            "0    Monday\n",
            "1    Monday\n",
            "2    Monday\n",
            "3    Monday\n",
            "4    Monday\n",
            "Name: Day_of_Week, dtype: object\n",
            "\n",
            "Label encoded 'Day_of_Week' column:\n",
            "0    1\n",
            "1    1\n",
            "2    1\n",
            "3    1\n",
            "4    1\n",
            "Name: Day_of_Week_Encoded, dtype: int64\n",
            "\n",
            "Mapping of Day_of_Week to encoded values:\n",
            "Friday: 0\n",
            "Monday: 1\n",
            "Saturday: 2\n",
            "Sunday: 3\n",
            "Thursday: 4\n",
            "Tuesday: 5\n",
            "Wednesday: 6\n"
          ]
        }
      ]
    },
    {
      "cell_type": "markdown",
      "source": [
        "9.How to one-hot encode a categorical column?"
      ],
      "metadata": {
        "id": "gg9bxqNey2Z5"
      }
    },
    {
      "cell_type": "code",
      "metadata": {
        "colab": {
          "base_uri": "https://localhost:8080/"
        },
        "id": "34750677",
        "outputId": "385aabfd-e9bc-413f-eb74-5ad06a6974e1"
      },
      "source": [
        "# Select a categorical column to one-hot encode (e.g., 'Weather_Condition')\n",
        "column_to_encode = 'Weather_Condition'\n",
        "\n",
        "# Perform one-hot encoding\n",
        "one_hot_encoded_df = pd.get_dummies(df[column_to_encode], prefix=column_to_encode)\n",
        "\n",
        "# Display the first few rows of the original and one-hot encoded dataframes\n",
        "print(\"Original 'Weather_Condition' column:\")\n",
        "print(df[column_to_encode].head())\n",
        "\n",
        "print(\"\\nOne-hot encoded 'Weather_Condition' column:\")\n",
        "print(one_hot_encoded_df.head())"
      ],
      "execution_count": 7,
      "outputs": [
        {
          "output_type": "stream",
          "name": "stdout",
          "text": [
            "Original 'Weather_Condition' column:\n",
            "0       Light Rain\n",
            "1       Light Rain\n",
            "2         Overcast\n",
            "3    Mostly Cloudy\n",
            "4    Mostly Cloudy\n",
            "Name: Weather_Condition, dtype: object\n",
            "\n",
            "One-hot encoded 'Weather_Condition' column:\n",
            "   Weather_Condition_Blowing Dust  Weather_Condition_Blowing Dust / Windy  \\\n",
            "0                           False                                   False   \n",
            "1                           False                                   False   \n",
            "2                           False                                   False   \n",
            "3                           False                                   False   \n",
            "4                           False                                   False   \n",
            "\n",
            "   Weather_Condition_Blowing Sand  Weather_Condition_Blowing Snow  \\\n",
            "0                           False                           False   \n",
            "1                           False                           False   \n",
            "2                           False                           False   \n",
            "3                           False                           False   \n",
            "4                           False                           False   \n",
            "\n",
            "   Weather_Condition_Blowing Snow / Windy  \\\n",
            "0                                   False   \n",
            "1                                   False   \n",
            "2                                   False   \n",
            "3                                   False   \n",
            "4                                   False   \n",
            "\n",
            "   Weather_Condition_Blowing Snow Nearby  Weather_Condition_Clear  \\\n",
            "0                                  False                    False   \n",
            "1                                  False                    False   \n",
            "2                                  False                    False   \n",
            "3                                  False                    False   \n",
            "4                                  False                    False   \n",
            "\n",
            "   Weather_Condition_Cloudy  Weather_Condition_Cloudy / Windy  \\\n",
            "0                     False                             False   \n",
            "1                     False                             False   \n",
            "2                     False                             False   \n",
            "3                     False                             False   \n",
            "4                     False                             False   \n",
            "\n",
            "   Weather_Condition_Drifting Snow  ...  \\\n",
            "0                            False  ...   \n",
            "1                            False  ...   \n",
            "2                            False  ...   \n",
            "3                            False  ...   \n",
            "4                            False  ...   \n",
            "\n",
            "   Weather_Condition_Thunder in the Vicinity  Weather_Condition_Thunderstorm  \\\n",
            "0                                      False                           False   \n",
            "1                                      False                           False   \n",
            "2                                      False                           False   \n",
            "3                                      False                           False   \n",
            "4                                      False                           False   \n",
            "\n",
            "   Weather_Condition_Thunderstorms and Rain  \\\n",
            "0                                     False   \n",
            "1                                     False   \n",
            "2                                     False   \n",
            "3                                     False   \n",
            "4                                     False   \n",
            "\n",
            "   Weather_Condition_Thunderstorms and Snow  Weather_Condition_Tornado  \\\n",
            "0                                     False                      False   \n",
            "1                                     False                      False   \n",
            "2                                     False                      False   \n",
            "3                                     False                      False   \n",
            "4                                     False                      False   \n",
            "\n",
            "   Weather_Condition_Volcanic Ash  Weather_Condition_Widespread Dust  \\\n",
            "0                           False                              False   \n",
            "1                           False                              False   \n",
            "2                           False                              False   \n",
            "3                           False                              False   \n",
            "4                           False                              False   \n",
            "\n",
            "   Weather_Condition_Widespread Dust / Windy  Weather_Condition_Wintry Mix  \\\n",
            "0                                      False                         False   \n",
            "1                                      False                         False   \n",
            "2                                      False                         False   \n",
            "3                                      False                         False   \n",
            "4                                      False                         False   \n",
            "\n",
            "   Weather_Condition_Wintry Mix / Windy  \n",
            "0                                 False  \n",
            "1                                 False  \n",
            "2                                 False  \n",
            "3                                 False  \n",
            "4                                 False  \n",
            "\n",
            "[5 rows x 144 columns]\n"
          ]
        }
      ]
    }
  ]
}