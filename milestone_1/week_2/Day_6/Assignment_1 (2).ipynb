{
  "nbformat": 4,
  "nbformat_minor": 0,
  "metadata": {
    "colab": {
      "provenance": [],
      "gpuType": "V28"
    },
    "kernelspec": {
      "name": "python3",
      "display_name": "Python 3"
    },
    "language_info": {
      "name": "python"
    },
    "accelerator": "TPU"
  },
  "cells": [
    {
      "cell_type": "markdown",
      "source": [
        "# Assignment-1"
      ],
      "metadata": {
        "id": "XyiP4X9b9Elk"
      }
    },
    {
      "cell_type": "code",
      "execution_count": 1,
      "metadata": {
        "colab": {
          "base_uri": "https://localhost:8080/"
        },
        "id": "csvkGTTR8yVu",
        "outputId": "7a8316ef-53e6-4753-bc5f-18efd232f5ee"
      },
      "outputs": [
        {
          "output_type": "stream",
          "name": "stdout",
          "text": [
            "Mounted at /content/drive\n"
          ]
        }
      ],
      "source": [
        "from google.colab import drive\n",
        "drive.mount('/content/drive')"
      ]
    },
    {
      "cell_type": "code",
      "source": [
        "import pandas as pd\n",
        "import matplotlib.pyplot as plt\n",
        "import seaborn as sns\n",
        "import warnings\n",
        "warnings.simplefilter(action='ignore', category=FutureWarning)"
      ],
      "metadata": {
        "id": "4mwF7R-N9jDN"
      },
      "execution_count": 2,
      "outputs": []
    },
    {
      "cell_type": "code",
      "source": [
        "accidents_df = pd.read_csv('/content/drive/MyDrive/Colab Notebooks/US_Accidents_March23.csv')"
      ],
      "metadata": {
        "id": "O5OXBEM29xFd"
      },
      "execution_count": 6,
      "outputs": []
    },
    {
      "cell_type": "markdown",
      "source": [
        "1. How many unique values are there in categorical columns like City, State, and Weather_Condition? Which category is the most frequent in each?"
      ],
      "metadata": {
        "id": "_IP5Iv7sd_2-"
      }
    },
    {
      "cell_type": "code",
      "metadata": {
        "colab": {
          "base_uri": "https://localhost:8080/"
        },
        "id": "bfc09aa7",
        "outputId": "f7a33249-9f39-4ac7-eaac-c0cd265f95bf"
      },
      "source": [
        "categorical_cols = ['City', 'State', 'Weather_Condition']\n",
        "\n",
        "for col in categorical_cols:\n",
        "    unique_count = accidents_df[col].nunique()\n",
        "    most_frequent = accidents_df[col].mode()[0]\n",
        "    print(f\"Column: {col}\")\n",
        "    print(f\"Number of unique values: {unique_count}\")\n",
        "    print(f\"Most frequent category: {most_frequent}\")\n",
        "    print(\"-\" * 30)"
      ],
      "execution_count": 4,
      "outputs": [
        {
          "output_type": "stream",
          "name": "stdout",
          "text": [
            "Column: City\n",
            "Number of unique values: 13678\n",
            "Most frequent category: Miami\n",
            "------------------------------\n",
            "Column: State\n",
            "Number of unique values: 49\n",
            "Most frequent category: CA\n",
            "------------------------------\n",
            "Column: Weather_Condition\n",
            "Number of unique values: 144\n",
            "Most frequent category: Fair\n",
            "------------------------------\n"
          ]
        }
      ]
    },
    {
      "cell_type": "markdown",
      "source": [
        "2.Calculate the percentage of missing values in each column and list columns with more than 5% missing data."
      ],
      "metadata": {
        "id": "BOkWO1hZekjE"
      }
    },
    {
      "cell_type": "code",
      "source": [
        "\n",
        "missing_percentage = (accidents_df.isnull().sum() / len(accidents_df)) * 100\n",
        "\n",
        "columns_with_high_missing = missing_percentage[missing_percentage > 5].sort_values(ascending=False)\n",
        "\n",
        "print(columns_with_high_missing)\n"
      ],
      "metadata": {
        "colab": {
          "base_uri": "https://localhost:8080/"
        },
        "id": "ov1zRVyietUC",
        "outputId": "12b881a6-fdd7-44da-caa3-dd44906a1a3f"
      },
      "execution_count": 12,
      "outputs": [
        {
          "output_type": "stream",
          "name": "stdout",
          "text": [
            "End_Lat              44.029355\n",
            "End_Lng              44.029355\n",
            "Precipitation(in)    28.512858\n",
            "Wind_Chill(F)        25.865904\n",
            "Wind_Speed(mph)       7.391355\n",
            "dtype: float64\n"
          ]
        }
      ]
    },
    {
      "cell_type": "markdown",
      "source": [
        "3.Convert Start_Time and End_Time columns to datetime objects. Find the range (earliest and latest) of accident start times in the dataset."
      ],
      "metadata": {
        "id": "VL74YR4VjGh9"
      }
    },
    {
      "cell_type": "code",
      "source": [
        "\n",
        "accidents_df[\"Start_Time\"] = pd.to_datetime(accidents_df[\"Start_Time\"], errors=\"coerce\")\n",
        "accidents_df[\"End_Time\"]   = pd.to_datetime(accidents_df[\"End_Time\"],   errors=\"coerce\")\n",
        "\n",
        "earliest = accidents_df[\"Start_Time\"].min()\n",
        "latest   = accidents_df[\"Start_Time\"].max()\n",
        "\n",
        "print(\"Earliest accident start time :\", earliest)\n",
        "print(\"Latest accident start time   :\", latest)"
      ],
      "metadata": {
        "colab": {
          "base_uri": "https://localhost:8080/"
        },
        "id": "Y0F4GnTMjQDW",
        "outputId": "cce4c094-fbb5-47a0-dff2-868a8dcc36ef"
      },
      "execution_count": 13,
      "outputs": [
        {
          "output_type": "stream",
          "name": "stdout",
          "text": [
            "Earliest accident start time : 2016-01-14 20:18:33\n",
            "Latest accident start time   : 2023-03-31 23:30:00\n"
          ]
        }
      ]
    },
    {
      "cell_type": "markdown",
      "source": [
        "4.Identify any duplicate records in the dataset based on all columns. How many duplicates exist and how will you handle them?"
      ],
      "metadata": {
        "id": "kjmlceQvkFm_"
      }
    },
    {
      "cell_type": "code",
      "metadata": {
        "colab": {
          "base_uri": "https://localhost:8080/"
        },
        "id": "1bb1fa4e",
        "outputId": "c4a6ee04-2f91-46f0-a152-78a02824d140"
      },
      "source": [
        "duplicate_rows = accidents_df.duplicated()\n",
        "num_duplicates = duplicate_rows.sum()\n",
        "print(\"Duplicate records:\")\n",
        "print(duplicate_rows)\n",
        "if num_duplicates >0:\n",
        "    print(\"\\nExample duplicate rows:\\n\", accidents_df[accidents_df.duplicated()].head(10))\n",
        "df = accidents_df.drop_duplicates()\n",
        "print(f\"Number of duplicate records: {num_duplicates}\")"
      ],
      "execution_count": 30,
      "outputs": [
        {
          "output_type": "stream",
          "name": "stdout",
          "text": [
            "Duplicate records:\n",
            "0          False\n",
            "1          False\n",
            "2          False\n",
            "3          False\n",
            "4          False\n",
            "           ...  \n",
            "7728389    False\n",
            "7728390    False\n",
            "7728391    False\n",
            "7728392    False\n",
            "7728393    False\n",
            "Length: 7728394, dtype: bool\n",
            "Number of duplicate records: 0\n"
          ]
        }
      ]
    },
    {
      "cell_type": "markdown",
      "source": [
        "5.Explore the distribution of accident severity (Severity column). What percentage of accidents belong to each severity level? Visualize this distribution with a pie chart."
      ],
      "metadata": {
        "id": "LZ4WzU4PkWsq"
      }
    },
    {
      "cell_type": "code",
      "source": [
        "severity_counts = accidents_df[\"Severity\"].value_counts(dropna=False)\n",
        "severity_percent = severity_counts / len(accidents_df) * 100\n",
        "print(\"Accident Severity Distribution (Count):\\n\")\n",
        "print(severity_counts)\n",
        "print(\"Accident Severity Distribution (%):\\n\")\n",
        "print(severity_percent)\n",
        "plt.figure(figsize=(6,6))\n",
        "plt.pie(\n",
        "    severity_percent,\n",
        "    labels=severity_percent.index,\n",
        "    autopct=\"%.1f%%\",\n",
        "    startangle=90\n",
        ")\n",
        "plt.title(\"Accident Severity Distribution\")\n",
        "plt.tight_layout()\n",
        "plt.show()"
      ],
      "metadata": {
        "colab": {
          "base_uri": "https://localhost:8080/",
          "height": 885
        },
        "id": "s1isjUtoksBT",
        "outputId": "c7649592-1003-45f6-f5f5-341208b13ef4"
      },
      "execution_count": 18,
      "outputs": [
        {
          "output_type": "stream",
          "name": "stdout",
          "text": [
            "Accident Severity Distribution (Count):\n",
            "\n",
            "Severity\n",
            "2    6156981\n",
            "3    1299337\n",
            "4     204710\n",
            "1      67366\n",
            "Name: count, dtype: int64\n",
            "Accident Severity Distribution (%):\n",
            "\n",
            "Severity\n",
            "2    79.667017\n",
            "3    16.812510\n",
            "4     2.648804\n",
            "1     0.871669\n",
            "Name: count, dtype: float64\n"
          ]
        },
        {
          "output_type": "display_data",
          "data": {
            "text/plain": [
              "<Figure size 600x600 with 1 Axes>"
            ],
            "image/png": "[encoded data removed]"
          },
          "metadata": {}
        }
      ]
    }
  ]
}