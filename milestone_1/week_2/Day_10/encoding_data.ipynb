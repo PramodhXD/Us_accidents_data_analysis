{
  "nbformat": 4,
  "nbformat_minor": 0,
  "metadata": {
    "colab": {
      "provenance": []
    },
    "kernelspec": {
      "name": "python3",
      "display_name": "Python 3"
    },
    "language_info": {
      "name": "python"
    }
  },
  "cells": [
    {
      "cell_type": "markdown",
      "source": [
        "### Encode Categorical Features:"
      ],
      "metadata": {
        "id": "KbRRhQ5rQG37"
      }
    },
    {
      "cell_type": "code",
      "execution_count": 1,
      "metadata": {
        "colab": {
          "base_uri": "https://localhost:8080/"
        },
        "id": "6gfe8H8kP9vi",
        "outputId": "bd6460b3-441c-4d80-9d17-466a5ae35ae6"
      },
      "outputs": [
        {
          "output_type": "stream",
          "name": "stdout",
          "text": [
            "Original Dataset:\n",
            "          City Weather  Severity  Accidents\n",
            "0     New York   Sunny         3        100\n",
            "1  Los Angeles   Rainy         2        150\n",
            "2     New York   Sunny         3        100\n",
            "3      Chicago  Cloudy         1         80\n",
            "4      Houston   Sunny         4         90\n",
            "5  Los Angeles   Rainy         2        150\n",
            "6       Boston   Rainy         3         60\n",
            "7       Boston   Sunny         3         60\n",
            "8      Chicago  Cloudy         1         80\n"
          ]
        }
      ],
      "source": [
        "import pandas as pd\n",
        "import numpy as np\n",
        "\n",
        "# Synthetic dataset with categorical and duplicate rows\n",
        "data = {\n",
        "    'City': ['New York', 'Los Angeles', 'New York', 'Chicago', 'Houston', 'Los Angeles', 'Boston', 'Boston', 'Chicago'],\n",
        "    'Weather': ['Sunny', 'Rainy', 'Sunny', 'Cloudy', 'Sunny', 'Rainy', 'Rainy', 'Sunny', 'Cloudy'],\n",
        "    'Severity': [3, 2, 3, 1, 4, 2, 3, 3, 1],\n",
        "    'Accidents': [100, 150, 100, 80, 90, 150, 60, 60, 80]\n",
        "}\n",
        "\n",
        "df = pd.DataFrame(data)\n",
        "print(\"Original Dataset:\")\n",
        "print(df)"
      ]
    },
    {
      "cell_type": "code",
      "source": [
        "# Remove duplicate rows\n",
        "df_no_duplicates = df.drop_duplicates()\n",
        "print(\"\\nAfter removing duplicates:\")\n",
        "print(df_no_duplicates)"
      ],
      "metadata": {
        "colab": {
          "base_uri": "https://localhost:8080/"
        },
        "id": "_SmuBJWpQO7U",
        "outputId": "d6c39872-8e6a-44a9-d153-3e93a9ae2885"
      },
      "execution_count": 2,
      "outputs": [
        {
          "output_type": "stream",
          "name": "stdout",
          "text": [
            "\n",
            "After removing duplicates:\n",
            "          City Weather  Severity  Accidents\n",
            "0     New York   Sunny         3        100\n",
            "1  Los Angeles   Rainy         2        150\n",
            "3      Chicago  Cloudy         1         80\n",
            "4      Houston   Sunny         4         90\n",
            "6       Boston   Rainy         3         60\n",
            "7       Boston   Sunny         3         60\n"
          ]
        }
      ]
    },
    {
      "cell_type": "code",
      "source": [
        "# Label Encoding with pandas category dtype\n",
        "df_no_duplicates['City_Encoded'] = df_no_duplicates['City'].astype('category').cat.codes\n",
        "print(\"\\nLabel Encoded 'City' column:\")\n",
        "print(df_no_duplicates[['City', 'City_Encoded']])"
      ],
      "metadata": {
        "colab": {
          "base_uri": "https://localhost:8080/"
        },
        "id": "ABVGVUZ8QUki",
        "outputId": "44b9954b-bc92-4b98-e431-df9e0334fda3"
      },
      "execution_count": 3,
      "outputs": [
        {
          "output_type": "stream",
          "name": "stdout",
          "text": [
            "\n",
            "Label Encoded 'City' column:\n",
            "          City  City_Encoded\n",
            "0     New York             4\n",
            "1  Los Angeles             3\n",
            "3      Chicago             1\n",
            "4      Houston             2\n",
            "6       Boston             0\n",
            "7       Boston             0\n"
          ]
        },
        {
          "output_type": "stream",
          "name": "stderr",
          "text": [
            "/tmp/ipython-input-397821232.py:2: SettingWithCopyWarning: \n",
            "A value is trying to be set on a copy of a slice from a DataFrame.\n",
            "Try using .loc[row_indexer,col_indexer] = value instead\n",
            "\n",
            "See the caveats in the documentation: https://pandas.pydata.org/pandas-docs/stable/user_guide/indexing.html#returning-a-view-versus-a-copy\n",
            "  df_no_duplicates['City_Encoded'] = df_no_duplicates['City'].astype('category').cat.codes\n"
          ]
        }
      ]
    },
    {
      "cell_type": "code",
      "source": [
        "# One-Hot Encoding using pandas get_dummies\n",
        "df_onehot = pd.get_dummies(df_no_duplicates, columns=['Weather'])\n",
        "print(\"\\nOne-Hot Encoded 'Weather' column:\")\n",
        "print(df_onehot.head())"
      ],
      "metadata": {
        "colab": {
          "base_uri": "https://localhost:8080/"
        },
        "id": "MzLJ2oPJQXXP",
        "outputId": "7372c20e-cce2-4cca-a95a-b6b2d8ed1370"
      },
      "execution_count": 4,
      "outputs": [
        {
          "output_type": "stream",
          "name": "stdout",
          "text": [
            "\n",
            "One-Hot Encoded 'Weather' column:\n",
            "          City  Severity  Accidents  City_Encoded  Weather_Cloudy  \\\n",
            "0     New York         3        100             4           False   \n",
            "1  Los Angeles         2        150             3           False   \n",
            "3      Chicago         1         80             1            True   \n",
            "4      Houston         4         90             2           False   \n",
            "6       Boston         3         60             0           False   \n",
            "\n",
            "   Weather_Rainy  Weather_Sunny  \n",
            "0          False           True  \n",
            "1           True          False  \n",
            "3          False          False  \n",
            "4          False           True  \n",
            "6           True          False  \n"
          ]
        }
      ]
    },
    {
      "cell_type": "code",
      "source": [
        "# Detecting and handling outliers in 'Accidents' column using IQR method:\n",
        "\n",
        "Q1 = df_no_duplicates['Accidents'].quantile(0.25)\n",
        "Q3 = df_no_duplicates['Accidents'].quantile(0.75)\n",
        "IQR = Q3 - Q1\n",
        "\n",
        "# Define bounds\n",
        "lower_bound = Q1 - 1.5 * IQR\n",
        "upper_bound = Q3 + 1.5 * IQR\n",
        "\n",
        "# Identify outliers\n",
        "outliers = df_no_duplicates[(df_no_duplicates['Accidents'] < lower_bound) | (df_no_duplicates['Accidents'] > upper_bound)]\n",
        "print(\"\\nDetected outliers:\")\n",
        "print(outliers)\n",
        "\n",
        "# Option 1: Remove outliers\n",
        "df_no_outliers = df_no_duplicates[(df_no_duplicates['Accidents'] >= lower_bound) & (df_no_duplicates['Accidents'] <= upper_bound)]\n",
        "print(\"\\nDataset after removing outliers:\")\n",
        "print(df_no_outliers)\n",
        "\n",
        "# Option 2: Cap outliers (winsorizing)\n",
        "df_capped = df_no_duplicates.copy()\n",
        "df_capped['Accidents'] = np.where(df_capped['Accidents'] > upper_bound, upper_bound,\n",
        "                                  np.where(df_capped['Accidents'] < lower_bound, lower_bound, df_capped['Accidents']))\n",
        "print(\"\\nDataset after capping outliers:\")\n",
        "print(df_capped)"
      ],
      "metadata": {
        "colab": {
          "base_uri": "https://localhost:8080/"
        },
        "id": "7QFcxaHfQgiS",
        "outputId": "bba2d77d-02df-455b-9d4d-aee7289395ad"
      },
      "execution_count": 5,
      "outputs": [
        {
          "output_type": "stream",
          "name": "stdout",
          "text": [
            "\n",
            "Detected outliers:\n",
            "          City Weather  Severity  Accidents  City_Encoded\n",
            "1  Los Angeles   Rainy         2        150             3\n",
            "\n",
            "Dataset after removing outliers:\n",
            "       City Weather  Severity  Accidents  City_Encoded\n",
            "0  New York   Sunny         3        100             4\n",
            "3   Chicago  Cloudy         1         80             1\n",
            "4   Houston   Sunny         4         90             2\n",
            "6    Boston   Rainy         3         60             0\n",
            "7    Boston   Sunny         3         60             0\n",
            "\n",
            "Dataset after capping outliers:\n",
            "          City Weather  Severity  Accidents  City_Encoded\n",
            "0     New York   Sunny         3     100.00             4\n",
            "1  Los Angeles   Rainy         2     146.25             3\n",
            "3      Chicago  Cloudy         1      80.00             1\n",
            "4      Houston   Sunny         4      90.00             2\n",
            "6       Boston   Rainy         3      60.00             0\n",
            "7       Boston   Sunny         3      60.00             0\n"
          ]
        }
      ]
    },
    {
      "cell_type": "markdown",
      "source": [
        "Task:\n",
        "Visualize this outlier using boxplot."
      ],
      "metadata": {
        "id": "iROm9z12Qpda"
      }
    },
    {
      "cell_type": "code",
      "metadata": {
        "colab": {
          "base_uri": "https://localhost:8080/",
          "height": 564
        },
        "id": "0ecf32cc",
        "outputId": "b4b98afa-0782-4a7d-8bcf-2da4eddcd668"
      },
      "source": [
        "import matplotlib.pyplot as plt\n",
        "import seaborn as sns\n",
        "\n",
        "plt.figure(figsize=(8, 6))\n",
        "sns.boxplot(x=df_no_duplicates['Accidents'])\n",
        "plt.title('Boxplot of Accidents')\n",
        "plt.xlabel('Number of Accidents')\n",
        "plt.show()"
      ],
      "execution_count": 6,
      "outputs": [
        {
          "output_type": "display_data",
          "data": {
            "text/plain": [
              "<Figure size 800x600 with 1 Axes>"
            ],
            "image/png": "[encoded data removed]"
          },
          "metadata": {}
        }
      ]
    }
  ]
}